{
 "cells": [
  {
   "cell_type": "code",
   "execution_count": 10,
   "metadata": {},
   "outputs": [
    {
     "name": "stdout",
     "output_type": "stream",
     "text": [
      "division by zero!\n",
      "In finally block for cleanup\n"
     ]
    }
   ],
   "source": [
    "#Write a function to compute 5/0 and use try/except to catch the exceptions.\n",
    "\n",
    "\n",
    "def throws():\n",
    "    return 5/0\n",
    "\n",
    "try:\n",
    "    throws()\n",
    "except ZeroDivisionError:\n",
    "    print (\"division by zero!\")\n",
    "except Exceptionerror:\n",
    "    print ('Caught an exception')\n",
    "finally:\n",
    "    print ('In finally block for cleanup')"
   ]
  },
  {
   "cell_type": "code",
   "execution_count": 4,
   "metadata": {},
   "outputs": [
    {
     "name": "stdout",
     "output_type": "stream",
     "text": [
      "('Americans Play Baseball.', 'Americans Play cricket.', 'Americans watch Baseball.', 'Americans watch cricket.') ('Indians Play Baseball.', 'Indians Play cricket.', 'Indians watch Baseball.', 'Indians watch cricket.')\n"
     ]
    }
   ],
   "source": [
    "#2. Implement a Python program to generate all sentences where subject is in [\"Americans\",\n",
    "#\"Indians\"] and verb is in [\"Play\", \"watch\"] and the object is in [\"Baseball\",\"cricket\"].\n",
    "\n",
    "\n",
    "subjects=[\"Americans\",\"Indians\"]\n",
    "verbs=[\"Play\",\"watch\"]\n",
    "objects=[\"Baseball\",\"cricket\"]\n",
    "for i in range(len(subjects)):\n",
    "    for j in range(len(verbs)):\n",
    "        for k in range(len(objects)):\n",
    "            sentence = \"%s %s %s.\" % (subjects[0], verbs[0], objects[0]),\"%s %s %s.\" %(subjects[0], verbs[0], objects[1]),\"%s %s %s.\" % (subjects[0], verbs[1], objects[0]),\"%s %s %s.\" %(subjects[0], verbs[1], objects[1])\n",
    "            sentence1 = \"%s %s %s.\" % (subjects[1], verbs[0], objects[0]),\"%s %s %s.\" %(subjects[1], verbs[0], objects[1]),\"%s %s %s.\" %(subjects[1], verbs[1], objects[0]),\"%s %s %s.\" %(subjects[1], verbs[1], objects[1])\n",
    "            \n",
    "print (sentence,sentence1)"
   ]
  },
  {
   "cell_type": "code",
   "execution_count": null,
   "metadata": {},
   "outputs": [],
   "source": []
  }
 ],
 "metadata": {
  "kernelspec": {
   "display_name": "Python 3",
   "language": "python",
   "name": "python3"
  },
  "language_info": {
   "codemirror_mode": {
    "name": "ipython",
    "version": 3
   },
   "file_extension": ".py",
   "mimetype": "text/x-python",
   "name": "python",
   "nbconvert_exporter": "python",
   "pygments_lexer": "ipython3",
   "version": "3.6.4"
  }
 },
 "nbformat": 4,
 "nbformat_minor": 2
}
